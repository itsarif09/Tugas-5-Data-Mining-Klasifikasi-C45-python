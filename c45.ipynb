{
  "cells": [
    {
      "cell_type": "code",
      "execution_count": null,
      "metadata": {
        "id": "5ZdAus74eMdV"
      },
      "outputs": [],
      "source": [
        "from sklearn.tree import DecisionTreeClassifier\n",
        "from sklearn import datasets\n",
        "import matplotlib.pyplot as plt"
      ]
    },
    {
      "cell_type": "code",
      "source": [
        "iris = datasets.load_iris()\n",
        "features = iris['data']\n",
        "target = iris['target']"
      ],
      "metadata": {
        "id": "uYs_FLbue5Pm"
      },
      "execution_count": null,
      "outputs": []
    },
    {
      "cell_type": "code",
      "source": [
        "decisionTree = DecisionTreeClassifier(random_state=0,\n",
        "max_depth=None, min_samples_split=2,\n",
        "min_samples_leaf=1, min_weight_fraction_leaf=0,\n",
        "max_leaf_nodes=None, min_impurity_decrease=0)"
      ],
      "metadata": {
        "id": "l9nKfa3sfHbK"
      },
      "execution_count": null,
      "outputs": []
    },
    {
      "cell_type": "code",
      "source": [
        "model = decisionTree.fit(features, target)\n",
        "observation = [[5, 4, 3, 2]]\n",
        "model.predict(observation)\n",
        "model.predict_proba(observation)"
      ],
      "metadata": {
        "id": "USc4xIUjf_y2"
      },
      "execution_count": null,
      "outputs": []
    },
    {
      "cell_type": "code",
      "source": [
        "import pydotplus\n",
        "from sklearn import tree \n",
        "dot_data = tree.export_graphviz(decisiontree, out_file=None,\n",
        "    feature_names=iris['feature_names'], class_names=iris['target_names'])\n",
        "from Ipython.display import Image\n",
        "graph = pydotplus.graph_from_dot_data(dot_data)\n",
        "Image(graph.create_png())\n",
        "graph.write_png(\"D:\\iris.png\")"
      ],
      "metadata": {
        "id": "P8eci_RWgpZs"
      },
      "execution_count": null,
      "outputs": []
    }
  ],
  "metadata": {
    "interpreter": {
      "hash": "5c3b02fa24688d32a1d09351b7f8eac82a87272ad081601c73caead00a8e1fc4"
    },
    "kernelspec": {
      "display_name": "Python 2.7.18 64-bit (system)",
      "language": "python",
      "name": "python3"
    },
    "language_info": {
      "codemirror_mode": {
        "name": "ipython",
        "version": 2
      },
      "file_extension": ".py",
      "mimetype": "text/x-python",
      "name": "python",
      "nbconvert_exporter": "python",
      "pygments_lexer": "ipython2",
      "version": "2.7.18"
    },
    "orig_nbformat": 4,
    "colab": {
      "name": "c45.ipynb",
      "provenance": [],
      "collapsed_sections": []
    }
  },
  "nbformat": 4,
  "nbformat_minor": 0
}